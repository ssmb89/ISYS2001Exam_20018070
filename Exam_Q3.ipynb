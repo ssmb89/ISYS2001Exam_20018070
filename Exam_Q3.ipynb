{
  "nbformat": 4,
  "nbformat_minor": 0,
  "metadata": {
    "colab": {
      "name": "Exam_Q3",
      "provenance": [],
      "include_colab_link": true
    },
    "kernelspec": {
      "name": "python3",
      "display_name": "Python 3"
    },
    "language_info": {
      "name": "python"
    }
  },
  "cells": [
    {
      "cell_type": "markdown",
      "metadata": {
        "id": "view-in-github",
        "colab_type": "text"
      },
      "source": [
        "<a href=\"https://colab.research.google.com/github/ssmb89/ISYS2001Exam_20018070/blob/main/Exam_Q3.ipynb\" target=\"_parent\"><img src=\"https://colab.research.google.com/assets/colab-badge.svg\" alt=\"Open In Colab\"/></a>"
      ]
    },
    {
      "cell_type": "markdown",
      "source": [
        "# Question 3 \n",
        "\n",
        "The question requires me to fix and apply industry best practices for the codes.\n",
        "\n",
        "The question for question 3 is as follows:\n",
        "The notebook elp_number_guess.ipynb is a game that selects a mystery number, and the player enters their initial guess. Players receive feedback on whether their guess is greater than or less than the mystery number. If the player cannot guess the secret number within ten tries, print out a message that they are out of guesses and display the number. The notebook is not working. It contains errors and does not follow industry best practices. Look at the output cell for an example of the correct output for a player winning the game.\n",
        "Fix the mistakes and apply industry best practices. Save the program as a Colab Notebook in your GitHub repository."
      ],
      "metadata": {
        "id": "pz0Q2llsnxYU"
      }
    },
    {
      "cell_type": "code",
      "execution_count": 27,
      "metadata": {
        "colab": {
          "base_uri": "https://localhost:8080/"
        },
        "id": "qzvdfufMdkWc",
        "outputId": "f1ada78c-b85b-43d1-9fbb-78ea396214c3"
      },
      "outputs": [
        {
          "output_type": "stream",
          "name": "stdout",
          "text": [
            "I am thinking of a number between 1 and 100.\n",
            "You have 10 guesses left. Take a guess.\n",
            "Please enter a number between 1 and 100.\n",
            "> 20\n",
            "Your guess is too high.\n",
            "You have 9 guesses left. Take a guess.\n",
            "Please enter a number between 1 and 100.\n",
            "> 10\n",
            "Your guess is too high.\n",
            "You have 8 guesses left. Take a guess.\n",
            "Please enter a number between 1 and 100.\n",
            "> 8\n",
            "Your guess is too high.\n",
            "You have 7 guesses left. Take a guess.\n",
            "Please enter a number between 1 and 100.\n",
            "> 5\n",
            "You guessed my number!\n"
          ]
        }
      ],
      "source": [
        "#Immporting the random module\n",
        "import random \n",
        "\n",
        "def askForGuess():\n",
        "  while True:\n",
        "    print('Please enter a number between 1 and 100.')\n",
        "    guess = input('> ') \n",
        "\n",
        "    if guess.isdigit():\n",
        "      return int(guess)\n",
        "secretNumber = random.randint(1, 100)\n",
        "print('I am thinking of a number between 1 and 100.')\n",
        "\n",
        "for i in range(0,10,1):\n",
        "# Code for 'f' used from website: https://realpython.com/python-print/\n",
        "    print(f'You have {10 - i} guesses left. Take a guess.')\n",
        "\n",
        "    guess = askForGuess()\n",
        "    if guess == secretNumber:\n",
        "        break\n",
        "\n",
        "    if guess > secretNumber and guess <100:\n",
        "        print('Your guess is too high.')\n",
        "    if guess < secretNumber:\n",
        "        print('Your guess is too low.')\n",
        "    if guess > 100:\n",
        "        print(\"Your guess is out of Range\")\n",
        "\n",
        "if guess == secretNumber:\n",
        "    print('You guessed my number!')\n",
        "else:\n",
        "    print('No more guesses. The number I was thinking of was', secretNumber)\n"
      ]
    },
    {
      "cell_type": "markdown",
      "source": [
        "Code Fix\n",
        "\n",
        "1.   Imported Random module in line 1\n",
        "2.   Removed extra = sign in line 18, where code was guess == askForGuess()\n",
        "3.   Changed the for loop step counter from 2 to 1 in line 14. \n",
        "4.   Changed the isdecimal() to isdigit() for the code, as it is asking for integers in line 9.\n",
        "5.   Added an if statement to get customers to enter a value within range of 1 to 100 in line 26 and 27.\n",
        "6.   Addded extra constraint on the if guess > secretnumber and guess has to be below 100 for the print statement print('Your guess is too high.') to appear in line 22.\n",
        "7.   Switched the logical operator for the if statements where the original operators were having opposite print statements on lines 22 and 24.\n",
        "8.  Moved the print statement of print('Please enter a number between 1 and 100.') to line 6 from line 9 , and above the input code.\n",
        "9. Added a f in line 16 to make to the code a f-string (Zaczyński n.d.)\n",
        "\n",
        "References\n",
        "Zaczyński, Bartosz. n.d. ‘Your Guide to the Python Print() Function – Real Python’. Accessed 8 June 2022. https://realpython.com/python-print/.\n",
        "\n",
        "\n",
        "\n"
      ],
      "metadata": {
        "id": "FwvTaoPnpZqy"
      }
    }
  ]
}
{
  "nbformat": 4,
  "nbformat_minor": 0,
  "metadata": {
    "colab": {
      "name": "Exam Q1.ipynb",
      "provenance": [],
      "authorship_tag": "ABX9TyP50ehI/EqBEVmnS8i2F+hj",
      "include_colab_link": true
    },
    "kernelspec": {
      "name": "python3",
      "display_name": "Python 3"
    },
    "language_info": {
      "name": "python"
    }
  },
  "cells": [
    {
      "cell_type": "markdown",
      "metadata": {
        "id": "view-in-github",
        "colab_type": "text"
      },
      "source": [
        "<a href=\"https://colab.research.google.com/github/ssmb89/ISYS2001Exam_20018070/blob/main/Exam_Q1.ipynb\" target=\"_parent\"><img src=\"https://colab.research.google.com/assets/colab-badge.svg\" alt=\"Open In Colab\"/></a>"
      ]
    },
    {
      "cell_type": "markdown",
      "source": [
        "# Question 1\n",
        "\n",
        "Design and implement an application that helps tourists visiting Australia by converting American dollars or Japanese Yen to Australian dollars. The program should allow the user to enter a currency and value and then display its value in AUD.\n",
        "\n",
        "• The current rate of exchange for USD to AUD is: 1 USD = 1.38 AUD.\n",
        "\n",
        "• The current rate of exchange for YEN to AUD is: 1 YEN = 0.010 AUD.\n",
        "\n",
        "Your design should demonstrate the first four steps of the development methodology used in ISYS2001. You can write your design in a Word document, PDF or a notebook. Implement your design as a Colab Notebook. Your implementation should follow best practices and demonstrate the methodology's last two steps.\n",
        "Save the design and implementation in your GitHub repository."
      ],
      "metadata": {
        "id": "itzqqYWxtJRh"
      }
    },
    {
      "cell_type": "markdown",
      "source": [
        "# Step 1: State the Problem Clearly\n",
        "\n",
        "Tourists travelling to Australia would want to use Australian Dollars for shopping and to enjoy what australia has to offer. But, before they go and exhange their local curreny to AUD, they would want to convert thier local currency to AUD to find out how much they are able to get.\n",
        "\n",
        "## The approach\n",
        "1. The users will be prompted to make a selection in between  USD to AUD and YEN to AUD.\n",
        "2. The program will check for the input given by user to use USD or YEN conversion.\n",
        "3. The users will then be prompted to input the amount they would like to convert.\n",
        "4. The program will take in the input amount and give it to the conversion funtion.\n",
        "5. The program will then take the converted AUD money and print a message to show the amount.\n"
      ],
      "metadata": {
        "id": "L6zElOFW1it8"
      }
    },
    {
      "cell_type": "markdown",
      "source": [
        "# Step 2: Describe Input and Output\n",
        "\n",
        "Inputs:\n",
        "\n",
        "* Number 1 or 2 to choose USD or YEN\n",
        "* First input of 1 or 2 has to be a number and not a string\n",
        "* The amount of money they want to convert\n",
        "* The input of money has to be a number and not a string\n",
        "\n",
        "Output:\n",
        "* The value of 1 or 2 will be passed from selection menu\n",
        "* The amount of money will be passed from amount menu\n",
        "* The final amount of money in AUD is presented \n",
        "* Prompt to perform another task or exit the program\n",
        "\n"
      ],
      "metadata": {
        "id": "viUoAtET1ulQ"
      }
    },
    {
      "cell_type": "markdown",
      "source": [
        "#Step 3: Work the problem by hand\n",
        "\n",
        "In this section, we would show what are the inputs that are accpeted and the inputs that are not, as well as the error codes that is shown when input is not accepted.\n",
        "\n",
        "**Main Menu:**\n",
        "\n",
        "Example:\n",
        "1. 1 or 2 \n",
        "2. one or two\n",
        "\n",
        "Result:\n",
        "1. Accepted\n",
        "2. Rejected: Error Message \"Please enter a number\"\n",
        "\n",
        "**Money Prompt** \n",
        "\n",
        "Example:\n",
        "1. 1000\n",
        "2. One Thousand\n",
        "\n",
        "Result: \n",
        "1. Accpeted \n",
        "2. Rejected: Error Message \"Please enter a number\"\n",
        "\n",
        "**Selection function**\n",
        "\n",
        "Example:\n",
        "1. 1 or 2 \n",
        "2. 3 or 5\n",
        "\n",
        "Result:\n",
        "1. Accepted \n",
        "2. Rejected: Error Message \"Please choose 1 or 2\"\n",
        "\n",
        "\n",
        "\n"
      ],
      "metadata": {
        "id": "FSPzCCfz12PQ"
      }
    },
    {
      "cell_type": "markdown",
      "source": [
        "#Step 4: Developer's Algorithms\n",
        "\n",
        "**Conversion Module**\n",
        "\n",
        "1. Function to change the amount of USD to AUD\n",
        "  * global varibale to be used for division by USD conversion rate\n",
        "  * return the AUD amount\n",
        "2. Function to change the amount of YEN to AUD\n",
        "  * global varibale to be used for division by YEN conversion rate\n",
        "  * return the AUD amount \n",
        "\n",
        "**Main Menu Module**\n",
        "1. Display \" What selection do you want to make?\n",
        "    * To convert from USD to AUD, Enter the Value 1 \n",
        "    * To convert from YEN to AUD, Enter the Value 2\"\n",
        "2. Check that the value input are digits and not strings\n",
        "3. Get the answer and store into varible prompt\n",
        "\n",
        "**Money Prompt**\n",
        "1. Display \"How much do you want to Convert?\"\n",
        "2. Check that the value input are digits and not strings \n",
        "3. Get the answer and store into variable money\n",
        "\n",
        "**Main Code**\n",
        "\n",
        "1. Create a while loop and if statements to make sure that the input variables of prompt are 1 or 2.\n",
        "2. If the input of prompt variable is 1, we call the money prompt to enter the amount the amount.\n",
        "3. After getting input of money prompt, all the functions related to money function is run\n",
        "4. If the input from money prompt is accepted, the conversion function is called to convert the money input to AUD.\n",
        "5. Using a formatting code to round the amount to 2 decimal points\n",
        "6. Print the amount of money in AUD after conversion.\n",
        "7. If input of prompt is 2, we call the money prompt fucntion and repeat steps 2 to 6.\n",
        "8. If number input is not 1 or 2, the else statement is called and tells the user to input between 1 or 2."
      ],
      "metadata": {
        "id": "Rcwso2RH19QF"
      }
    },
    {
      "cell_type": "code",
      "execution_count": 80,
      "metadata": {
        "id": "-A32XZWIs64H"
      },
      "outputs": [],
      "source": [
        "#@title Function for conversion maths\n",
        "#Create Functions for conversion of USD to AUD \n",
        "def usd_convert(money):\n",
        "  \"\"\"\n",
        "  The fucntion converts the value of USD to AUD.\n",
        "  \"\"\"\n",
        "  aud  = float(money/1.38)\n",
        "  return aud\n",
        "\n",
        "#Create Funtion for conversion of YEN to AUD\n",
        "def yen_convert(money):\n",
        "  \"\"\"\n",
        "  The function converts the value of YEN to AUD.\n",
        "  \"\"\"\n",
        "  aud = float(money/0.010)\n",
        "  return aud"
      ]
    },
    {
      "cell_type": "code",
      "source": [
        "#@title Prompt to select YEN or USD conversion\n",
        "#Create Function to get user input for selection \n",
        "def main_menu():\n",
        "  \"\"\"\n",
        "  The fuction is a prompt to get users to input a value to make a selection\n",
        "  \"\"\"\n",
        "#Create a while loop to check that input is a digit and return prompt number after accepted \n",
        "  while True:\n",
        "    prompt = input(\"\"\"What selection do you want to make? \n",
        "  To convert from USD to AUD, Enter the Value 1\n",
        "  To Convert from YEN to AUD, Enter the Value 2\n",
        "  \"\"\")\n",
        "    if prompt.isdigit():\n",
        "      break\n",
        "    else:\n",
        "     print(\"Please enter a number.\")\n",
        "  return int(prompt)\n"
      ],
      "metadata": {
        "id": "O76uJjI1x_c7"
      },
      "execution_count": 81,
      "outputs": []
    },
    {
      "cell_type": "code",
      "source": [
        "#@title Prompt for Amount of Money\n",
        "#create function to get the user input for money\n",
        "def money_prompt():\n",
        "  \"\"\"\n",
        "  The funciton is a prompt to get the users to input an amount of money they want to convert\n",
        "  \"\"\"\n",
        "#Create a while loop to check that input is a digit and returns money amount after accepted\n",
        "  while True:\n",
        "    money = input(\"How much do you want to Convert? \")\n",
        "    if money.isdigit():\n",
        "      break\n",
        "    else: \n",
        "      print(\"Please enter a number.\")\n",
        "  return float(money)"
      ],
      "metadata": {
        "id": "Lw4iVTV71RyD"
      },
      "execution_count": 82,
      "outputs": []
    },
    {
      "cell_type": "code",
      "source": [
        "#@title Main Code\n",
        "#Create Fuction to get the input and call the according conversion\n",
        "def selection():\n",
        "  while True:\n",
        "#Call a variable and give it the prompt value from main menu function\n",
        "    value = main_menu()\n",
        "#Check if the value variable is 1, and if true, call the convert USD function \n",
        "    if value == 1: \n",
        "      money = money_prompt()\n",
        "      aud = usd_convert(money)\n",
        "      final_aud = \"{:.2f}\".format(aud)\n",
        "      print(\"Your total AUD ammount would be:\", final_aud)\n",
        "      break\n",
        "#check if the value variable is 2, and if true, call the convert YEN function\n",
        "    elif value == 2:\n",
        "      money = money_prompt()\n",
        "      aud = yen_convert(money)\n",
        "      final_aud = \"{:.2f}\".format(aud)\n",
        "      print(\"Your total AUD amount would be:\", final_aud)\n",
        "      break\n",
        "#Check the value variable and if not 1 or 2, show error message below\n",
        "    else:\n",
        "      print(\"Please choose 1 or 2.\")\n"
      ],
      "metadata": {
        "id": "J4vfIlgrzQfF"
      },
      "execution_count": 88,
      "outputs": []
    },
    {
      "cell_type": "code",
      "source": [
        "#Calling the final main function \n",
        "selection()"
      ],
      "metadata": {
        "colab": {
          "base_uri": "https://localhost:8080/"
        },
        "id": "n_RGOYSU92jI",
        "outputId": "a6566bf5-8719-4626-b784-466126b9f381"
      },
      "execution_count": 89,
      "outputs": [
        {
          "output_type": "stream",
          "name": "stdout",
          "text": [
            "What selection do you want to make? \n",
            "  To convert from USD to AUD, Enter the Value 1\n",
            "  To Convert from YEN to AUD, Enter the Value 2\n",
            "  4\n",
            "Please choose 1 or 2.\n",
            "What selection do you want to make? \n",
            "  To convert from USD to AUD, Enter the Value 1\n",
            "  To Convert from YEN to AUD, Enter the Value 2\n",
            "  3\n",
            "Please choose 1 or 2.\n",
            "What selection do you want to make? \n",
            "  To convert from USD to AUD, Enter the Value 1\n",
            "  To Convert from YEN to AUD, Enter the Value 2\n",
            "  h\n",
            "Please enter a number.\n",
            "What selection do you want to make? \n",
            "  To convert from USD to AUD, Enter the Value 1\n",
            "  To Convert from YEN to AUD, Enter the Value 2\n",
            "  1\n",
            "How much do you want to Convert? 200\n",
            "Your total AUD ammount would be: 144.93\n"
          ]
        }
      ]
    },
    {
      "cell_type": "code",
      "source": [
        ""
      ],
      "metadata": {
        "id": "SlNLyUvWV3VF"
      },
      "execution_count": null,
      "outputs": []
    }
  ]
}
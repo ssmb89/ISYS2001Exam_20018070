{
  "nbformat": 4,
  "nbformat_minor": 0,
  "metadata": {
    "colab": {
      "name": "Exam Q1.ipynb",
      "provenance": [],
      "authorship_tag": "ABX9TyN8EShCPi9Sc++7s/I9OfcX",
      "include_colab_link": true
    },
    "kernelspec": {
      "name": "python3",
      "display_name": "Python 3"
    },
    "language_info": {
      "name": "python"
    }
  },
  "cells": [
    {
      "cell_type": "markdown",
      "metadata": {
        "id": "view-in-github",
        "colab_type": "text"
      },
      "source": [
        "<a href=\"https://colab.research.google.com/github/ssmb89/ISYS2001Exam_20018070/blob/main/Exam_Q1.ipynb\" target=\"_parent\"><img src=\"https://colab.research.google.com/assets/colab-badge.svg\" alt=\"Open In Colab\"/></a>"
      ]
    },
    {
      "cell_type": "markdown",
      "source": [
        "# Question 1\n",
        "\n",
        "Design and implement an application that helps tourists visiting Australia by converting American dollars or Japanese Yen to Australian dollars. The program should allow the user to enter a currency and value and then display its value in AUD.\n",
        "\n",
        "• The current rate of exchange for USD to AUD is: 1 USD = 1.38 AUD.\n",
        "\n",
        "• The current rate of exchange for YEN to AUD is: 1 YEN = 0.010 AUD.\n",
        "\n",
        "Your design should demonstrate the first four steps of the development methodology used in ISYS2001. You can write your design in a Word document, PDF or a notebook. Implement your design as a Colab Notebook. Your implementation should follow best practices and demonstrate the methodology's last two steps.\n",
        "Save the design and implementation in your GitHub repository."
      ],
      "metadata": {
        "id": "itzqqYWxtJRh"
      }
    },
    {
      "cell_type": "markdown",
      "source": [
        "# Step 1: State the Problem Clearly\n",
        "\n",
        "Tourists travelling to Australia would want to use Australian Dollars for shopping and to enjoy what australia has to offer. But, before they go and exhange their local curreny to AUD, they would want to convert thier local currency to AUD to find out how much they are able to get.\n",
        "\n",
        "## The approach\n",
        "1. The users will be prompted to make a selection in between  USD to AUD and YEN to AUD.\n",
        "2. The program will check for the input given by user to use USD or YEN conversion.\n",
        "3. The users will then be prompted to input the amount they would like to convert.\n",
        "4. The program will take in the input amount and give it to the conversion funtion.\n",
        "5. The program will then take the converted AUD money and print a message to show the amount.\n"
      ],
      "metadata": {
        "id": "L6zElOFW1it8"
      }
    },
    {
      "cell_type": "markdown",
      "source": [
        "# Step 2: Describe Input and Output\n",
        "\n",
        "Inputs:\n",
        "\n",
        "* Number 1 or 2 to choose USD or YEN\n",
        "* First input of 1 or 2 has to be a number and not a string\n",
        "* The amount of money they want to convert\n",
        "* The input of money has to be a number and not a string\n",
        "\n",
        "Output:\n",
        "* The value of 1 or 2 will be passed from selection menu\n",
        "* The amount of money will be passed from amount menu\n",
        "* The final amount of money in AUD is presented \n",
        "* Prompt to perform another task or exit the program\n",
        "\n"
      ],
      "metadata": {
        "id": "viUoAtET1ulQ"
      }
    },
    {
      "cell_type": "markdown",
      "source": [
        "#Step 3: Work the problem by hand"
      ],
      "metadata": {
        "id": "FSPzCCfz12PQ"
      }
    },
    {
      "cell_type": "markdown",
      "source": [
        "#Step 4: Developer's Algorithms\n"
      ],
      "metadata": {
        "id": "Rcwso2RH19QF"
      }
    },
    {
      "cell_type": "markdown",
      "source": [
        "#Design \n",
        "\n",
        "Display:\n",
        "\n",
        "Which Conversion would you like to do?\n",
        "\n",
        "To convert from USD to AUD, Enter the Value 1\n",
        "\n",
        "To Convert from YEN to USD, Enter the Value 2\n",
        "\n",
        "#Input 1:\n",
        "\n",
        "Call Function USD Conversion \n",
        "\n",
        "Prompt user to enter USD value they want to change\n",
        "\n",
        "Display Amount in AUD\n",
        "\n",
        "#Input 2:\n",
        "\n",
        "Call Function YEN Conversion \n",
        "\n",
        "Prompt user to enter YEN Value they want to change \n",
        "\n",
        "Display Amount in AUD\n",
        "\n",
        "\n",
        "\n",
        "\n"
      ],
      "metadata": {
        "id": "bYqQLR4LtURK"
      }
    },
    {
      "cell_type": "code",
      "execution_count": 72,
      "metadata": {
        "id": "-A32XZWIs64H"
      },
      "outputs": [],
      "source": [
        "#Create Functions for conversion of USD to AUD \n",
        "def usd_convert(money):\n",
        "  \"\"\"\n",
        "  The fucntion converts the value of USD to AUD.\n",
        "  \"\"\"\n",
        "  aud  = float(money/1.38)\n",
        "  return aud\n",
        "\n",
        "def yen_convert(money):\n",
        "  \"\"\"\n",
        "  The function converts the value of YEN to AUD.\n",
        "  \"\"\"\n",
        "  aud = float(money/0.010)\n",
        "  return aud"
      ]
    },
    {
      "cell_type": "code",
      "source": [
        "#Create Function to get user input for selection \n",
        "\n",
        "def display_menu():\n",
        "  \"\"\"\n",
        "  The fuction is a prompt to get users to input a value to make a selection\n",
        "  \"\"\"\n",
        "  while True:\n",
        "    prompt = input(\"\"\"What selection do you want to make? \n",
        "  To convert from USD to AUD, Enter the Value 1\n",
        "  To Convert from YEN to AUD, Enter the Value 2\n",
        "  \"\"\")\n",
        "    if prompt.isdigit():\n",
        "      break\n",
        "    else:\n",
        "     print(\"Please enter a number.\")\n",
        "  return int(prompt)\n"
      ],
      "metadata": {
        "id": "O76uJjI1x_c7"
      },
      "execution_count": 60,
      "outputs": []
    },
    {
      "cell_type": "code",
      "source": [
        "#create function to get the user input for money\n",
        "\n",
        "def money_prompt():\n",
        "  \"\"\"\n",
        "  The funciotn is a prompt to get the users to input an amount of money they want to convert\n",
        "  \"\"\"\n",
        "  while True:\n",
        "    money = input(\"How much do you want to Convert? \")\n",
        "    if money.isdigit():\n",
        "      break\n",
        "    else: \n",
        "      print(\"Please enter the number you want to conver.\")\n",
        "  return float(money)"
      ],
      "metadata": {
        "id": "Lw4iVTV71RyD"
      },
      "execution_count": 73,
      "outputs": []
    },
    {
      "cell_type": "code",
      "source": [
        "#Create Fuction to get the input and call the according conversion\n",
        "\n",
        "def selection():\n",
        "  while True:\n",
        "    value = display_menu()\n",
        "    if value == 1: \n",
        "      money = money_prompt()\n",
        "      aud = usd_convert(money)\n",
        "      final_aud = \"{:.2f}\".format(aud)\n",
        "      print(\"Your total AUD ammount would be:\", final_aud)\n",
        "      break\n",
        "    elif value == 2:\n",
        "      money = money_prompt()\n",
        "      aud = yen_convert(money)\n",
        "      final_aud = \"{:.2f}\".format(aud)\n",
        "      print(\"Your total AUD amount would be:\", final_aud)\n",
        "      break\n",
        "    else:\n",
        "      print(\"Please choose 1 or 2.\")\n",
        "\n",
        "selection()"
      ],
      "metadata": {
        "colab": {
          "base_uri": "https://localhost:8080/"
        },
        "id": "J4vfIlgrzQfF",
        "outputId": "e7786a45-414a-4f5d-91f5-c4c1fbea690d"
      },
      "execution_count": 78,
      "outputs": [
        {
          "output_type": "stream",
          "name": "stdout",
          "text": [
            "What selection do you want to make? \n",
            "  To convert from USD to AUD, Enter the Value 1\n",
            "  To Convert from YEN to AUD, Enter the Value 2\n",
            "  3\n",
            "Please choose 1 or 2.\n",
            "What selection do you want to make? \n",
            "  To convert from USD to AUD, Enter the Value 1\n",
            "  To Convert from YEN to AUD, Enter the Value 2\n",
            "  1\n",
            "How much do you want to Convert? 100\n",
            "Your total AUD ammount would be: 72.46\n"
          ]
        }
      ]
    },
    {
      "cell_type": "code",
      "source": [
        ""
      ],
      "metadata": {
        "id": "n_RGOYSU92jI"
      },
      "execution_count": null,
      "outputs": []
    }
  ]
}
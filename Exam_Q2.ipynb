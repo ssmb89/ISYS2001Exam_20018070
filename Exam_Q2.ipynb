{
  "nbformat": 4,
  "nbformat_minor": 0,
  "metadata": {
    "colab": {
      "name": "Exam_Q2.ipynb",
      "provenance": [],
      "authorship_tag": "ABX9TyN1FsN1HxPsRDLcJJztsqYZ",
      "include_colab_link": true
    },
    "kernelspec": {
      "name": "python3",
      "display_name": "Python 3"
    },
    "language_info": {
      "name": "python"
    }
  },
  "cells": [
    {
      "cell_type": "markdown",
      "metadata": {
        "id": "view-in-github",
        "colab_type": "text"
      },
      "source": [
        "<a href=\"https://colab.research.google.com/github/ssmb89/ISYS2001Exam_20018070/blob/main/Exam_Q2.ipynb\" target=\"_parent\"><img src=\"https://colab.research.google.com/assets/colab-badge.svg\" alt=\"Open In Colab\"/></a>"
      ]
    },
    {
      "cell_type": "markdown",
      "source": [
        "# ELP Sales CSV analysis\n",
        "\n",
        "The colab notebook consist of the codes used to get the maximum, minimum and average profit for each company in australia and ocenaia region.\n",
        "\n",
        "The question for the exam is as follows.\n",
        "\n",
        "Write a program the reads in elp_sales.csv and calculates the maximum, minimum and average profit for each country in the Australia and Oceania region. For each country in the Australia and Oceania region plot their total profit. (Hint: read the CSV into a Pandas dataframe, create a new dataframe for the region, and use the new dataframe for the calculations and plot). Save the program as a Colab Notebook in your GitHub repository."
      ],
      "metadata": {
        "id": "79VkW5VahVux"
      }
    },
    {
      "cell_type": "code",
      "execution_count": null,
      "metadata": {
        "id": "8xdmpvBrhUu2"
      },
      "outputs": [],
      "source": [
        ""
      ]
    }
  ]
}